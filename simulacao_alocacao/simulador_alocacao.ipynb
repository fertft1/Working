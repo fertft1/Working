{
 "cells": [
  {
   "cell_type": "code",
   "execution_count": 1,
   "metadata": {
    "collapsed": true
   },
   "outputs": [],
   "source": [
    "import pandas as pd\n",
    "from collections import defaultdict"
   ]
  },
  {
   "cell_type": "code",
   "execution_count": 2,
   "metadata": {
    "collapsed": true
   },
   "outputs": [],
   "source": [
    "df = pd.read_csv('rds.csv')\n",
    "df.sort_values('dia_final', ascending=True, inplace=True)"
   ]
  },
  {
   "cell_type": "code",
   "execution_count": 3,
   "metadata": {},
   "outputs": [],
   "source": [
    "demanda = defaultdict(list)\n",
    "for line in df.iterrows():\n",
    "    demanda[line[1][1]].append(line[1][0])"
   ]
  },
  {
   "cell_type": "code",
   "execution_count": 4,
   "metadata": {},
   "outputs": [],
   "source": [
    "class grupos(object):\n",
    "    \n",
    "    def __init__(self, n_funcionais, skills):\n",
    "        self.disponiveis = n_funcionais\n",
    "        self.skills = skills\n",
    "        self.ocupados = {1:0} #período em que fica livre novamente\n",
    "        self.tratada = defaultdict(list)\n",
    "    \n",
    "    def alocar(self,minuto,tma,demanda):\n",
    "        \n",
    "        #existem pessoas que ficam disponíveis nesse minuto\n",
    "        if minuto in self.ocupados.keys():\n",
    "            self.disponiveis += self.ocupados[minuto]\n",
    "        \n",
    "        #seguindo a ordem dos skills\n",
    "        for skill in self.skills:\n",
    "            \n",
    "            #se existem pessoas e demandas disponíveis\n",
    "            while len(demanda[skill]) > 0 and self.disponiveis > 0:\n",
    "                \n",
    "                #atualizar disponibilidade\n",
    "                self.disponiveis -= 1\n",
    "                \n",
    "                #vai dar erro quando não existir o minuto de destino\n",
    "                try:\n",
    "                    self.ocupados[minuto + tma] += 1\n",
    "                except:\n",
    "                    self.ocupados[minuto + tma] = 1\n",
    "                    \n",
    "                #guardar da demanda tratada\n",
    "                self.tratada[minuto].append(demanda[skill].pop(0))"
   ]
  },
  {
   "cell_type": "code",
   "execution_count": 5,
   "metadata": {
    "collapsed": true
   },
   "outputs": [],
   "source": [
    "g1 = grupos(5,['MODULO 1','MODULO 2'])"
   ]
  },
  {
   "cell_type": "code",
   "execution_count": 6,
   "metadata": {
    "collapsed": true
   },
   "outputs": [],
   "source": [
    "g1.alocar(1,1,demanda)"
   ]
  },
  {
   "cell_type": "code",
   "execution_count": 7,
   "metadata": {},
   "outputs": [
    {
     "data": {
      "text/plain": [
       "{1: 0, 2: 5}"
      ]
     },
     "execution_count": 7,
     "metadata": {},
     "output_type": "execute_result"
    }
   ],
   "source": [
    "g1.ocupados"
   ]
  },
  {
   "cell_type": "code",
   "execution_count": 8,
   "metadata": {},
   "outputs": [
    {
     "data": {
      "text/plain": [
       "defaultdict(list,\n",
       "            {'MODULO 1': [],\n",
       "             'MODULO 2': [6, 7, 8],\n",
       "             'MODULO 3': [9, 10, 11, 12]})"
      ]
     },
     "execution_count": 8,
     "metadata": {},
     "output_type": "execute_result"
    }
   ],
   "source": [
    "demanda"
   ]
  },
  {
   "cell_type": "code",
   "execution_count": 10,
   "metadata": {},
   "outputs": [
    {
     "name": "stdout",
     "output_type": "stream",
     "text": [
      "None\n",
      "{1: 0, 2: 5, 3: 3}\n",
      "defaultdict(<class 'list'>, {'MODULO 1': [], 'MODULO 2': [], 'MODULO 3': [9, 10, 11, 12]})\n",
      "defaultdict(<class 'list'>, {1: [1, 2, 3, 4, 5], 2: [6, 7, 8]})\n"
     ]
    }
   ],
   "source": [
    "print(g1.alocar(2,1,demanda))\n",
    "print(g1.ocupados)\n",
    "print(demanda)\n",
    "print(g1.tratada)"
   ]
  }
 ],
 "metadata": {
  "kernelspec": {
   "display_name": "Python 3",
   "language": "python",
   "name": "python3"
  },
  "language_info": {
   "codemirror_mode": {
    "name": "ipython",
    "version": 3
   },
   "file_extension": ".py",
   "mimetype": "text/x-python",
   "name": "python",
   "nbconvert_exporter": "python",
   "pygments_lexer": "ipython3",
   "version": "3.6.3"
  }
 },
 "nbformat": 4,
 "nbformat_minor": 2
}
