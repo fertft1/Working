{
 "cells": [
  {
   "cell_type": "code",
   "execution_count": 1,
   "metadata": {
    "collapsed": true
   },
   "outputs": [],
   "source": [
    "from collections import defaultdict, namedtuple,Counter\n",
    "from datetime import datetime, timedelta\n",
    "import numpy as np\n",
    "import csv"
   ]
  },
  {
   "cell_type": "markdown",
   "metadata": {},
   "source": [
    "# Criar demanda\n",
    "Para criar a demanda preciso criar 3 variáveis\n",
    "1. data_criacao: dia e hora que a demanda entrou no sistema\n",
    "\n",
    "2. NumeroCaso: número de identificação de uma demanda\n",
    "\n",
    "Esses são os campos com que o **salesforce** trabalha no sistema FIFO (first in first out)"
   ]
  },
  {
   "cell_type": "code",
   "execution_count": 2,
   "metadata": {
    "collapsed": true
   },
   "outputs": [],
   "source": [
    "np.random.seed(1023)\n",
    "dia_atual = 28\n",
    "sortear = lambda x,y:np.random.randint(x,y)\n",
    "ntuple = namedtuple('demanda',['numerocaso','poder','etapa','data_entrada','data_final'])\n",
    "demanda = []\n",
    "add_minutes = 150\n",
    "casos_criados = set()\n",
    "\n",
    "for i in range(3000):\n",
    "    #sortear o dia\n",
    "    #dia = sortear(dia_atual-2,dia_atual+1)\n",
    "    dia = 29\n",
    "\n",
    "    #sortear a hora\n",
    "    hora = sortear(8,20)\n",
    "\n",
    "    #sortear o minuto \n",
    "    minuto = sortear(0,60)\n",
    "\n",
    "    #criar datetime\n",
    "    data_entrada = datetime(2018,4,dia,hora,minuto,0)\n",
    "    data_final = datetime(2018,4,dia,hora,minuto,0) + timedelta(minutes = add_minutes)\n",
    "    \n",
    "    #criar número do caso\n",
    "    numerocaso: str = ''.join([str(i) for i in np.random.randint(0,10,size=9)])\n",
    "    \n",
    "    if numerocaso in casos_criados:\n",
    "        print(numerocaso)\n",
    "        continue\n",
    "    \n",
    "    casos_criados.add(numerocaso)\n",
    "    \n",
    "    #criar o tipo de poder que será utilizado\n",
    "    poder = 'poderes ' + str(sortear(1,6))\n",
    "    \n",
    "    #criar skill que pode tratar da demanda\n",
    "    etapa = sortear(0,2)\n",
    "    \n",
    "    if etapa == 0:\n",
    "        #está na etapa inicial\n",
    "        demanda.append(ntuple(numerocaso=numerocaso, \n",
    "                              poder=poder, \n",
    "                              etapa='etapa {}'.format(1),\n",
    "                              data_entrada=data_entrada, \n",
    "                              data_final=data_final))\n",
    "    elif etapa == 1:\n",
    "        #sortear quantas etapas secundárias existem\n",
    "        n_etapas = np.random.randint(2,6)\n",
    "        \n",
    "        for i in range(2,n_etapas+1):\n",
    "            demanda.append(ntuple(numerocaso=numerocaso,\n",
    "                                    data_entrada=data_entrada,\n",
    "                                    etapa = 'etapa {}'.format(i),\n",
    "                                    data_final = data_final, \n",
    "                                    poder = poder))"
   ]
  },
  {
   "cell_type": "markdown",
   "metadata": {},
   "source": [
    "# Ordenar\n",
    "É necesssário ordenar por hora de entrada para criar a fila FIFO do salesforce"
   ]
  },
  {
   "cell_type": "code",
   "execution_count": 3,
   "metadata": {
    "collapsed": true
   },
   "outputs": [],
   "source": [
    "demanda.sort(key=lambda x:x.data_entrada)"
   ]
  },
  {
   "cell_type": "code",
   "execution_count": 4,
   "metadata": {},
   "outputs": [
    {
     "data": {
      "text/plain": [
       "[demanda(numerocaso='429670944', poder='poderes 3', etapa='etapa 2', data_entrada=datetime.datetime(2018, 4, 29, 8, 0), data_final=datetime.datetime(2018, 4, 29, 10, 30)),\n",
       " demanda(numerocaso='290948858', poder='poderes 3', etapa='etapa 1', data_entrada=datetime.datetime(2018, 4, 29, 8, 0), data_final=datetime.datetime(2018, 4, 29, 10, 30)),\n",
       " demanda(numerocaso='125046113', poder='poderes 5', etapa='etapa 1', data_entrada=datetime.datetime(2018, 4, 29, 8, 0), data_final=datetime.datetime(2018, 4, 29, 10, 30)),\n",
       " demanda(numerocaso='265355723', poder='poderes 5', etapa='etapa 1', data_entrada=datetime.datetime(2018, 4, 29, 8, 1), data_final=datetime.datetime(2018, 4, 29, 10, 31)),\n",
       " demanda(numerocaso='422127929', poder='poderes 2', etapa='etapa 1', data_entrada=datetime.datetime(2018, 4, 29, 8, 1), data_final=datetime.datetime(2018, 4, 29, 10, 31))]"
      ]
     },
     "execution_count": 4,
     "metadata": {},
     "output_type": "execute_result"
    }
   ],
   "source": [
    "demanda[0:5]"
   ]
  },
  {
   "cell_type": "markdown",
   "metadata": {},
   "source": [
    "# Exportar"
   ]
  },
  {
   "cell_type": "code",
   "execution_count": 5,
   "metadata": {
    "collapsed": true
   },
   "outputs": [],
   "source": [
    "formato = '%Y-%m-%d %H:%M:%S'\n",
    "\n",
    "with open('demanda.csv','w') as csvfile:\n",
    "    writer = csv.writer(csvfile, delimiter=',',lineterminator='\\n')\n",
    "    \n",
    "    writer.writerow(['numerocaso','poder','etapa','data_entrada','data_final'])\n",
    "    \n",
    "    for i in demanda:\n",
    "        writer.writerow([i.numerocaso,i.poder,i.etapa,i.data_entrada.strftime(formato),i.data_final.strftime(formato)])"
   ]
  },
  {
   "cell_type": "markdown",
   "metadata": {},
   "source": [
    "# Importar\n",
    "As demandas criadas anteriormente são um exemplo de arquivo de entrada a ser importado\n",
    "\n",
    "Agora começa o código que será utilizado em produção"
   ]
  },
  {
   "cell_type": "code",
   "execution_count": 6,
   "metadata": {},
   "outputs": [
    {
     "name": "stdout",
     "output_type": "stream",
     "text": [
      "Header:  ['numerocaso', 'poder', 'etapa', 'data_entrada', 'data_final']\n"
     ]
    }
   ],
   "source": [
    "unordered_demanda = []\n",
    "with open('demanda.csv','r') as csvfile:\n",
    "    reader = csv.reader(csvfile)\n",
    "    print('Header: ',next(reader))\n",
    "    \n",
    "    for row in reader:\n",
    "        unordered_demanda.append(row)\n",
    "\n",
    "unordered_demanda.sort(key=lambda x:x[3])"
   ]
  },
  {
   "cell_type": "markdown",
   "metadata": {},
   "source": [
    "# Criar dicionário com as demandas ordenadas"
   ]
  },
  {
   "cell_type": "code",
   "execution_count": 7,
   "metadata": {
    "collapsed": true
   },
   "outputs": [],
   "source": [
    "demanda = defaultdict(list)\n",
    "for row in unordered_demanda:\n",
    "    if row[2] == 'etapa 1':\n",
    "        #se for etapa 1 guarda o poder como demanda\n",
    "        demanda[row[1]].append(row[0])\n",
    "    else:\n",
    "        demanda[row[2]].append(row[0])"
   ]
  },
  {
   "cell_type": "markdown",
   "metadata": {},
   "source": [
    "# Criar colaboradores\n",
    "\n",
    "Cada grupo tem uma quantidade de pessoas que seguem os mesmos **skills** e **proficiência**.\n",
    "A cada momento do planejamento o grupo recebe as demandas pendentes e segue a ordem de proficiência para alocar a quantidade de pessoas disponíveis pelo tempo da tarefa."
   ]
  },
  {
   "cell_type": "code",
   "execution_count": 8,
   "metadata": {
    "collapsed": true
   },
   "outputs": [],
   "source": [
    "class grupo_trabalho(object):\n",
    "    \n",
    "    def __init__(self, n_colaboradores, skills_tma):\n",
    "        \n",
    "        #Quantidade de colaboradores nesse grupo\n",
    "        self.disponiveis = n_colaboradores\n",
    "        \n",
    "        #Skills na ordem de proficiência\n",
    "        self.skills = list(skills_tma.keys())\n",
    "        \n",
    "        #guardar minuto de atendimento e qual RD atendida\n",
    "        self.atendidas = defaultdict(list)\n",
    "        \n",
    "        #não existem pessoas ocupadas inicialmente\n",
    "        self.ocupados = Counter()\n",
    "        \n",
    "        #tma de cada skills -- em minutos\n",
    "        self.tma = skills_tma.copy()\n",
    "    \n",
    "    def atendimento(self, minuto, demanda):\n",
    "        \n",
    "        #verificar se existem pessoas a serem liberadas\n",
    "        if minuto in self.ocupados.keys():\n",
    "            self.disponiveis += self.ocupados[minuto]\n",
    "            \n",
    "        #Verificar cada skill -- seguindo ordem de proeficiência\n",
    "        for skill in self.skills:\n",
    "            \n",
    "            #atribuir a rd\n",
    "            for ii, rd in enumerate(demanda[skill]):\n",
    "                #Verificando se existem colaboradores disponíveis e existem demandas para o skill\n",
    "                \n",
    "                if self.disponiveis > 0:\n",
    "                    \n",
    "                    #Seguindo o FIFO -- descarto primeiro da lista que foi ordenada previamente\n",
    "                    #Necessário analisar se é uma etapa de poderes ou conferência para propagar a demanda\n",
    "                    if skill.startswith('poderes'):\n",
    "                        \n",
    "                        '''a demanda deveria aparecer em minuto + tma, mas como vai para o fim da fila \n",
    "                        a distorção do resultado deve mínima\n",
    "                        '''\n",
    "                        aux_demanda = demanda[skill].pop(ii)\n",
    "                            \n",
    "                        demanda['etapa 2'].append(aux_demanda)\n",
    "                        demanda['etapa 3'].append(aux_demanda)\n",
    "                        demanda['etapa 4'].append(aux_demanda)\n",
    "                        demanda['etapa 5'].append(aux_demanda)\n",
    "                        \n",
    "                    elif skill.startswith('etapa'):\n",
    "                        demanda[skill].pop(ii)\n",
    "                        \n",
    "                    else:\n",
    "                        print('Cadastro inválido para skill: {}'.format(skill))\n",
    "                    \n",
    "                    #atribuir demanda -- minuto em que a demanda foi passada\n",
    "                    self.atendidas[minuto].append([rd,skill]) \n",
    "                \n",
    "                    #alocar um pessoa\n",
    "                    self.disponiveis -= 1\n",
    "                    \n",
    "                    #momento em que a pessoa volta a ser ativa\n",
    "                    self.ocupados[minuto + self.tma[skill]] += 1\n",
    "                    \n",
    "    def status(self):\n",
    "        print('Disponíveis: {}\\nOcupados: {} \\n'.format(self.disponiveis, self.ocupados))\n",
    "        \n",
    "class grupos(grupo_trabalho):\n",
    "    \n",
    "    def __init__(self):\n",
    "        self.grupo = {}\n",
    "        \n",
    "    def start_group(self,name,n_colaboradores, skills_tma):\n",
    "        self.grupo[name] = grupo_trabalho(n_colaboradores=n_colaboradores, skills_tma=skills_tma)\n",
    "        \n",
    "    def executar_demandas(self, minutos, demanda):\n",
    "        \n",
    "        for minuto in range(1,minutos+1):            \n",
    "            for key, grupo in self.grupo.items():\n",
    "                \n",
    "                #print('grupo: {} minuto: {}'.format(key, minuto))\n",
    "                grupo.atendimento(minuto, demanda)\n",
    "    \n",
    "    def periodo_atendimento(self, current_time):\n",
    "        \n",
    "        formato = '%Y-%m-%d %H:%M:%S'\n",
    "        \n",
    "        #x = lambda minuto: (current_time + timedelta(minutes=minuto)).strftime(formato)\n",
    "        x = lambda minuto: (current_time + timedelta(minutes=minuto))\n",
    "        consolidar = []\n",
    "        \n",
    "        for keys, grupo in self.grupo.items():\n",
    "            for minuto in grupo.atendidas.keys():\n",
    "                consolidar += [[x(minuto),rd,x(minuto + grupo.tma[skill]), skill] for rd, skill in grupo.atendidas[minuto]]\n",
    "        \n",
    "        return consolidar\n",
    "    \n",
    "    def exportar_csv(self, filename, current_time):\n",
    "        \n",
    "        aux = grupos.periodo_atendimento(self,current_time)\n",
    "        \n",
    "        #é necessário a menor a maior data de atendimento para entender quando da demanda foi concluída\n",
    "        rds = defaultdict(list)\n",
    "        for ii in aux:\n",
    "            rds[ii[1]].append(ii[0])\n",
    "            rds[ii[1]].append(ii[2])\n",
    "        \n",
    "        dataset = []\n",
    "        for key,value in rds.items():\n",
    "            dataset.append([key, min(value), max(value)])\n",
    "        \n",
    "        with open(file=filename, mode='w') as file:\n",
    "            \n",
    "            spamwriter = csv.writer(file, delimiter=',',lineterminator='\\n')\n",
    "            \n",
    "            spamwriter.writerow(['rd','data_inicio','data_fim'])\n",
    "            \n",
    "            for ii in dataset:\n",
    "                spamwriter.writerow(ii)"
   ]
  },
  {
   "cell_type": "markdown",
   "metadata": {},
   "source": [
    "# Criar grupos de trabalho"
   ]
  },
  {
   "cell_type": "code",
   "execution_count": 9,
   "metadata": {
    "collapsed": true
   },
   "outputs": [],
   "source": [
    "g = grupos()\n",
    "\n",
    "skills_tma = {'poderes 1':15,'etapa 2':5, 'etapa 3':2, 'etapa 4':3, 'etapa 5':5}\n",
    "g.start_group('grupo 1', 30, skills_tma)\n",
    "\n",
    "skills_tma = {'poderes 2':15,'etapa 2':5, 'etapa 3':2, 'etapa 4':3, 'etapa 5':5}\n",
    "g.start_group('grupo 2', 30, skills_tma)\n",
    "\n",
    "skills_tma = {'poderes 3':15,'etapa 2':5, 'etapa 3':2, 'etapa 4':3, 'etapa 5':5}\n",
    "g.start_group('grupo 3', 20, skills_tma)\n",
    "\n",
    "skills_tma = {'poderes 4':15,'etapa 2':5, 'etapa 3':2, 'etapa 4':3, 'etapa 5':5}\n",
    "g.start_group('grupo 4', 10, skills_tma)\n",
    "\n",
    "skills_tma = {'poderes 5':15,'etapa 2':5, 'etapa 3':2, 'etapa 4':3, 'etapa 5':5}\n",
    "g.start_group('grupo 5', 30, skills_tma)\n",
    "\n",
    "skills_tma = {'etapa 2':5, 'etapa 3':2, 'etapa 4':3, 'etapa 5':5}\n",
    "g.start_group('grupo 6', 40, skills_tma)"
   ]
  },
  {
   "cell_type": "markdown",
   "metadata": {},
   "source": [
    "# Executar demanda\n",
    "Abaixo o código que executa a demanda"
   ]
  },
  {
   "cell_type": "code",
   "execution_count": 10,
   "metadata": {
    "collapsed": true
   },
   "outputs": [],
   "source": [
    "g.executar_demandas(minutos=2000,demanda=demanda)"
   ]
  },
  {
   "cell_type": "code",
   "execution_count": 11,
   "metadata": {
    "collapsed": true
   },
   "outputs": [],
   "source": [
    "g.exportar_csv(filename='teste.csv',current_time=datetime(2018,4,30,8,0,0))"
   ]
  }
 ],
 "metadata": {
  "kernelspec": {
   "display_name": "Python 3",
   "language": "python",
   "name": "python3"
  },
  "language_info": {
   "codemirror_mode": {
    "name": "ipython",
    "version": 3
   },
   "file_extension": ".py",
   "mimetype": "text/x-python",
   "name": "python",
   "nbconvert_exporter": "python",
   "pygments_lexer": "ipython3",
   "version": "3.6.3"
  }
 },
 "nbformat": 4,
 "nbformat_minor": 2
}
