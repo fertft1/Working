{
 "cells": [
  {
   "cell_type": "code",
   "execution_count": 1,
   "metadata": {
    "collapsed": true
   },
   "outputs": [],
   "source": [
    "import csv\n",
    "from datetime import datetime, timedelta\n",
    "import time\n",
    "import numpy as np\n",
    "from collections import defaultdict, namedtuple\n",
    "import sys"
   ]
  },
  {
   "cell_type": "markdown",
   "metadata": {},
   "source": [
    "Na prática, saber se é caso pai ou filho não interessa muito, pois não vou ver nesse nível"
   ]
  },
  {
   "cell_type": "markdown",
   "metadata": {},
   "source": [
    "# Setting"
   ]
  },
  {
   "cell_type": "code",
   "execution_count": 2,
   "metadata": {
    "collapsed": true
   },
   "outputs": [],
   "source": [
    "pop_size = 100\n",
    "perc_melhores = 0.3\n",
    "perc_piores = 0.1\n",
    "perc_active_mutation = 0.1 #população que sofre mutação\n",
    "perc_mutacao = 0.05  #percentual dos genes\n",
    "current_time = datetime(2018,5,7,8,0,0)\n",
    "minutos_plano = 120"
   ]
  },
  {
   "cell_type": "markdown",
   "metadata": {},
   "source": [
    "# Importando dados e  criando variáveis auxiliares"
   ]
  },
  {
   "cell_type": "code",
   "execution_count": 3,
   "metadata": {},
   "outputs": [],
   "source": [
    "demanda = {}\n",
    "formato = '%Y-%m-%d %H:%M:%S'\n",
    "with open('demanda.csv', 'r') as csvfile:\n",
    "    reader = csv.reader(csvfile, delimiter=',')\n",
    "    \n",
    "    _ = next(reader)\n",
    "    \n",
    "    for row in reader:\n",
    "        numerocasofilho = '{}_{}'.format(row[0], row[2])\n",
    "        skill = 'etapa ' + str(row[2]) if row[2] != '1' else row[1]\n",
    "        #não interessa a data de entrada\n",
    "        data_final = datetime.strptime(row[4],formato)\n",
    "        demanda[numerocasofilho] = [skill,data_final]\n",
    "        \n",
    "# criando variáveis auxiliares\n",
    "demanda_etapa =  {}\n",
    "demanda_prazo =  {}\n",
    "for key,value in demanda.items():\n",
    "    demanda_etapa[key] = value[0]\n",
    "    demanda_prazo[key] = value[1]"
   ]
  },
  {
   "cell_type": "markdown",
   "metadata": {},
   "source": [
    "# Definindo funcionais para trabalho\n",
    "A classe grupo simula a forma de trabalho do **salesforce**"
   ]
  },
  {
   "cell_type": "code",
   "execution_count": 4,
   "metadata": {},
   "outputs": [],
   "source": [
    "class grupo(object):\n",
    "    \n",
    "    def __init__(self, current_time):\n",
    "        self.__prioridades = defaultdict(list)\n",
    "        self.__cdatetime = current_time\n",
    "        self.__ocupada = {}\n",
    "    \n",
    "    def funcional(self,funcional, skills_tma):\n",
    "        \n",
    "        #para controlar para cada funcional se está ocupada\n",
    "        self.__ocupada[ funcional]= 0 #guarda o minuto em que volta a estar disponível  \n",
    "        \n",
    "        for prioridade, skill in enumerate(skills_tma.keys()):\n",
    "            #pela ordem cada skill vai para uma prioridade (proeficiência)\n",
    "            self.__prioridades[prioridade].append({skill: [funcional, skills_tma[skill]]})\n",
    "                \n",
    "    def atendimento(self, minutos, demanda_etapa, demanda_prazo, individual):\n",
    "        '''Recebe o minuto de planejamento e indivíduo gerado (demandas ordenadas)'''\n",
    "        \n",
    "        #mandar dentro de cada etapa as rds em ordem de atendimento acelera as próximas etapas\n",
    "        etapa_rd = defaultdict(list)\n",
    "        _ = {etapa_rd[demanda_etapa[rd]].append(rd) for rd in individual}\n",
    "        \n",
    "        #for key in etapa_rd:\n",
    "            #print('Quantidade{}--{}'.format(key, len(etapa_rd[key])))\n",
    "        \n",
    "        sla_rd = 0\n",
    "        \n",
    "        #1. A simulação deve consumir as demandas dentro de uma janela de tempo\n",
    "        for minuto in range(1,minutos+1):\n",
    "            #print('minuto {}'.format(minuto))\n",
    "            \n",
    "            #2. Por prioridade (proeficiência) as demandas devem ser alocadas\n",
    "            for proeficiencia, skills in self.__prioridades.items():\n",
    "                \n",
    "                #3. Acessando os skills da proeficiência\n",
    "                for skill in skills:\n",
    "                    \n",
    "                    #4. Verificar se existe demanda para o skill acessado\n",
    "                    skill_acessado = list(skill.keys())[0]\n",
    "                    if skill_acessado in etapa_rd.keys():\n",
    "                        \n",
    "                        #5. Verificar se funcional está disponível\n",
    "                        funcional, tma = skill[skill_acessado][0], skill[skill_acessado][1]\n",
    "                        \n",
    "                        if self.__ocupada[funcional] <= minuto:\n",
    "                            #verificado que existe demanda e a funcional está disponível\n",
    "                            \n",
    "                            #retirando seguindo a ordem\n",
    "                            rd = etapa_rd[skill_acessado].pop(0)\n",
    "                            \n",
    "                            \n",
    "                            #atualizando tempo que a funcional vai ficar ocupada\n",
    "                            self.__ocupada[funcional] = minuto + tma\n",
    "                            \n",
    "                            #Verificando se a demanda foi atendida no prazo\n",
    "                            #caso positivo podemos criar um novo dado\n",
    "                            if self.__cdatetime + timedelta(minutes = minuto + tma) <= demanda_prazo[rd]:\n",
    "                                sla_rd += 1 \n",
    "                            \n",
    "                            \n",
    "                            aux = self.__cdatetime + timedelta(minutes = minuto + tma)\n",
    "                            '''print('rd: {} minuto: {} hs: {} hr: {} Prazo: {} func: {}'.format(rd,\n",
    "                                                                                     minuto,\n",
    "                                                                                     aux,\n",
    "                                                                                     demanda_prazo[rd],\n",
    "                                                                                     sla_rd,\n",
    "                                                                                    funcional))'''\n",
    "                            \n",
    "                            \n",
    "                            \n",
    "                            #se for último elemento da etapa_rd, então excluo a chave\n",
    "                            if len(etapa_rd[skill_acessado]) == 0:\n",
    "                                etapa_rd.pop(skill_acessado)\n",
    "                        \n",
    "        #6. Retorno a quantidade de rds feitas no prazo para avaliar a qualidade do indivíduo\n",
    "        return sla_rd\n",
    "    \n",
    "    def restart(self):\n",
    "        #necessário colocar todas as funcionais como livres\n",
    "        for funcional in self.__ocupada.keys():\n",
    "            self.__ocupada[funcional] = 0"
   ]
  },
  {
   "cell_type": "markdown",
   "metadata": {},
   "source": [
    "# Criando população inicial"
   ]
  },
  {
   "cell_type": "code",
   "execution_count": 5,
   "metadata": {},
   "outputs": [],
   "source": [
    "def start_pop(demanda,pop_size):\n",
    "    #ordem original -- não dever ser alterado\n",
    "    ordem = np.array(list(demanda.keys()), dtype=np.str)\n",
    "    pop = {}\n",
    "\n",
    "    for ii in range(pop_size):\n",
    "        ordem_atendimento = ordem.copy()\n",
    "        np.random.shuffle(ordem_atendimento)\n",
    "        pop[ii] = list(ordem_atendimento)\n",
    "\n",
    "    return pop"
   ]
  },
  {
   "cell_type": "markdown",
   "metadata": {},
   "source": [
    "# Escolhendo os indivíduos mais promissores\n",
    "Os indivíduos que possuem os melhores resultados são mantidos.\n",
    "\n",
    "Os de menor qualidade são sorteados para que alguns sejam mantidos"
   ]
  },
  {
   "cell_type": "code",
   "execution_count": 6,
   "metadata": {
    "collapsed": true
   },
   "outputs": [],
   "source": [
    "def selecionando_geradores(resultado):\n",
    "    ordenar_individuos = sorted(resultado.items(), key = lambda x:x[1], reverse=True)\n",
    "\n",
    "    #Guardando os resultados para comparativos futuros\n",
    "    #keep_results = ordenar_individuos[:]\n",
    "\n",
    "    #melhores indivíduos\n",
    "    best_individual = [i for i in ordenar_individuos[:int(perc_melhores*pop_size)]]\n",
    "\n",
    "    #sorteando os piores\n",
    "    worst_individual = [i[0] for i in ordenar_individuos[int(perc_melhores*pop_size):]]\n",
    "    rand_worst = list(np.random.choice(worst_individual, replace= False, size= int(perc_piores * len(worst_individual))))\n",
    "\n",
    "    rand_worst = [i for i in ordenar_individuos if i[0] in rand_worst]\n",
    "\n",
    "    #indivíduos para nova etapa\n",
    "    individuals = best_individual + rand_worst\n",
    "\n",
    "    return individuals"
   ]
  },
  {
   "cell_type": "markdown",
   "metadata": {},
   "source": [
    "# Breeding\n",
    "\n",
    "Criar filhos a partir do DNA dos pais"
   ]
  },
  {
   "cell_type": "code",
   "execution_count": 7,
   "metadata": {
    "collapsed": true
   },
   "outputs": [],
   "source": [
    "def breeding(individuals, pop):\n",
    "    #1.Identificar quem vai trocar material entre si\n",
    "    casais = np.random.choice([i[0] for i in individuals],replace=True,size=[pop_size,2])\n",
    "\n",
    "    #2.Regra de troca de DNA -- sorteio aleatório\n",
    "    for i, casal in enumerate(casais):\n",
    "\n",
    "        #posso usar várias vezes o mesmo individuo para vários cruzamentos\n",
    "        aux, breed= {}, []\n",
    "\n",
    "        aux[casal[0]] = pop[casal[0]].copy()\n",
    "        aux[casal[1]] = pop[casal[1]].copy()\n",
    "\n",
    "        while len(aux[casal[0]]) and len(aux[casal[1]]):\n",
    "            choice = np.random.choice([casal[0], casal[1]])\n",
    "\n",
    "            #sempre descarto\n",
    "            rd = aux[choice].pop(0)\n",
    "\n",
    "            #se ainda não existe no gene do filho eu add, caso contrário descarto\n",
    "            if not rd in breed:\n",
    "                breed.append(rd)\n",
    "\n",
    "        #crio a nova geração sobre a antiga\n",
    "        pop[i] = breed[:]\n",
    "        \n",
    "    return pop"
   ]
  },
  {
   "cell_type": "markdown",
   "metadata": {},
   "source": [
    "# Mutation\n",
    "A mutação acontece adicionando novos indivíduos a população. Não mudos os que já existem, simplesmente sorteio alguns e crio um filho com mutação. No caso atual mutação significa trocar algumas posições na ordem das demandas."
   ]
  },
  {
   "cell_type": "code",
   "execution_count": 8,
   "metadata": {
    "collapsed": true
   },
   "outputs": [],
   "source": [
    "def mutation(pop_size, perc_active_mutation, perc_mutacao):\n",
    "    sample = np.random.choice(range(pop_size), replace=False, size = int(pop_size*perc_active_mutation))\n",
    "    for choice in sample:\n",
    "\n",
    "        length = len(pop[choice])\n",
    "        changes = np.random.choice(range(length), replace = False, size = [int(length*perc_mutacao), 2])\n",
    "\n",
    "        for change in changes:\n",
    "            #invertendo os genes\n",
    "            aux_1 = pop[choice][change[0]][:]\n",
    "            aux_2 = pop[choice][change[1]][:]\n",
    "\n",
    "            pop[choice][change[0]] = aux_2\n",
    "            pop[choice][change[1]] = aux_1\n",
    "            \n",
    "    return pop"
   ]
  },
  {
   "cell_type": "markdown",
   "metadata": {},
   "source": [
    "# Create group and Fit Function\n",
    "\n",
    "A função para avaliar a qualidade dos indivíduos será a contagem de SLA perdida devido a ordem de seleção das demandas.\n",
    "\n",
    "Toda demanda selecionada tem as seguintes características:\n",
    "1. Tem de ser alocada em alguma funcional\n",
    "2. A funcional precisa ficar um tempo com essa demanda (tempo médio de atendimento)\n",
    "\n",
    "O resultado é influenciado pela ordem com que escolho as demandas. Cada indivíduo será um vetor que guarda para cada demanda a ordem em que cada demanda foi selecionada."
   ]
  },
  {
   "cell_type": "code",
   "execution_count": 9,
   "metadata": {},
   "outputs": [],
   "source": [
    "func_skills = {}\n",
    "func_skills['0001'] = {'Poderes 1':10, 'etapa 2': 5, 'etapa 3': 5, 'etapa 4': 5, 'etapa 5': 5}\n",
    "func_skills['0002'] = {'Poderes 1':10, 'etapa 2': 5, 'etapa 3': 5, 'etapa 4': 5, 'etapa 5': 5}\n",
    "func_skills['0003'] = {'Poderes 1':10, 'etapa 2': 5, 'etapa 3': 5, 'etapa 4': 5, 'etapa 5': 5}\n",
    "func_skills['0004'] = {'Poderes 1':10, 'etapa 2': 5, 'etapa 3': 5, 'etapa 4': 5, 'etapa 5': 5}\n",
    "func_skills['0005'] = {'Poderes 1':10, 'etapa 2': 5, 'etapa 3': 5, 'etapa 4': 5, 'etapa 5': 5}\n",
    "func_skills['0006'] = {'Poderes 1':10, 'etapa 2': 5, 'etapa 3': 5, 'etapa 4': 5, 'etapa 5': 5}\n",
    "func_skills['0007'] = {'Poderes 1':10, 'etapa 2': 5, 'etapa 3': 5, 'etapa 4': 5, 'etapa 5': 5}\n",
    "func_skills['0008'] = {'Poderes 1':10, 'etapa 2': 5, 'etapa 3': 5, 'etapa 4': 5, 'etapa 5': 5}\n",
    "func_skills['0009'] = {'Poderes 1':10, 'etapa 2': 5, 'etapa 3': 5, 'etapa 4': 5, 'etapa 5': 5}\n",
    "func_skills['0010'] = {'Poderes 1':10, 'etapa 2': 5, 'etapa 3': 5, 'etapa 4': 5, 'etapa 5': 5}\n",
    "func_skills['0011'] = {'Poderes 2':15, 'etapa 2': 5, 'etapa 3': 5, 'etapa 4': 5, 'etapa 5': 5}\n",
    "func_skills['0012'] = {'Poderes 2':15, 'etapa 2': 5, 'etapa 3': 5, 'etapa 4': 5, 'etapa 5': 5}\n",
    "func_skills['0013'] = {'Poderes 2':15, 'etapa 2': 5, 'etapa 3': 5, 'etapa 4': 5, 'etapa 5': 5}\n",
    "func_skills['0014'] = {'Poderes 2':15, 'etapa 2': 5, 'etapa 3': 5, 'etapa 4': 5, 'etapa 5': 5}\n",
    "func_skills['0015'] = {'Poderes 2':15, 'etapa 2': 5, 'etapa 3': 5, 'etapa 4': 5, 'etapa 5': 5}\n",
    "func_skills['0016'] = {'Poderes 2':15, 'etapa 2': 5, 'etapa 3': 5, 'etapa 4': 5, 'etapa 5': 5}\n",
    "func_skills['0017'] = {'Poderes 2':15, 'etapa 2': 5, 'etapa 3': 5, 'etapa 4': 5, 'etapa 5': 5}\n",
    "func_skills['0018'] = {'Poderes 2':15, 'etapa 2': 5, 'etapa 3': 5, 'etapa 4': 5, 'etapa 5': 5}\n",
    "func_skills['0019'] = {'Poderes 2':15, 'etapa 2': 5, 'etapa 3': 5, 'etapa 4': 5, 'etapa 5': 5}\n",
    "func_skills['0020'] = {'Poderes 2':15, 'etapa 2': 5, 'etapa 3': 5, 'etapa 4': 5, 'etapa 5': 5}\n",
    "func_skills['0021'] = {'Poderes 3':20, 'etapa 2': 5, 'etapa 3': 5, 'etapa 4': 5, 'etapa 5': 5}\n",
    "func_skills['0022'] = {'Poderes 3':20, 'etapa 2': 5, 'etapa 3': 5, 'etapa 4': 5, 'etapa 5': 5}\n",
    "func_skills['0023'] = {'Poderes 3':20, 'etapa 2': 5, 'etapa 3': 5, 'etapa 4': 5, 'etapa 5': 5}\n",
    "func_skills['0024'] = {'Poderes 3':20, 'etapa 2': 5, 'etapa 3': 5, 'etapa 4': 5, 'etapa 5': 5}\n",
    "func_skills['0025'] = {'Poderes 3':20, 'etapa 2': 5, 'etapa 3': 5, 'etapa 4': 5, 'etapa 5': 5}\n",
    "func_skills['0026'] = {'Poderes 3':20, 'etapa 2': 5, 'etapa 3': 5, 'etapa 4': 5, 'etapa 5': 5}\n",
    "func_skills['0027'] = {'Poderes 3':20, 'etapa 2': 5, 'etapa 3': 5, 'etapa 4': 5, 'etapa 5': 5}\n",
    "func_skills['0028'] = {'Poderes 3':20, 'etapa 2': 5, 'etapa 3': 5, 'etapa 4': 5, 'etapa 5': 5}\n",
    "func_skills['0029'] = {'Poderes 3':20, 'etapa 2': 5, 'etapa 3': 5, 'etapa 4': 5, 'etapa 5': 5}\n",
    "func_skills['0030'] = {'Poderes 3':20, 'etapa 2': 5, 'etapa 3': 5, 'etapa 4': 5, 'etapa 5': 5}\n",
    "func_skills['0031'] = {'Poderes 4':25, 'etapa 2': 5, 'etapa 3': 5, 'etapa 4': 5, 'etapa 5': 5}\n",
    "func_skills['0032'] = {'Poderes 4':25, 'etapa 2': 5, 'etapa 3': 5, 'etapa 4': 5, 'etapa 5': 5}\n",
    "func_skills['0033'] = {'Poderes 4':25, 'etapa 2': 5, 'etapa 3': 5, 'etapa 4': 5, 'etapa 5': 5}\n",
    "func_skills['0034'] = {'Poderes 4':25, 'etapa 2': 5, 'etapa 3': 5, 'etapa 4': 5, 'etapa 5': 5}\n",
    "func_skills['0035'] = {'Poderes 4':25, 'etapa 2': 5, 'etapa 3': 5, 'etapa 4': 5, 'etapa 5': 5}\n",
    "func_skills['0036'] = {'Poderes 4':25, 'etapa 2': 5, 'etapa 3': 5, 'etapa 4': 5, 'etapa 5': 5}\n",
    "func_skills['0037'] = {'Poderes 4':25, 'etapa 2': 5, 'etapa 3': 5, 'etapa 4': 5, 'etapa 5': 5}\n",
    "func_skills['0038'] = {'Poderes 4':25, 'etapa 2': 5, 'etapa 3': 5, 'etapa 4': 5, 'etapa 5': 5}\n",
    "func_skills['0039'] = {'Poderes 4':25, 'etapa 2': 5, 'etapa 3': 5, 'etapa 4': 5, 'etapa 5': 5}\n",
    "func_skills['0040'] = {'Poderes 4':25, 'etapa 2': 5, 'etapa 3': 5, 'etapa 4': 5, 'etapa 5': 5}\n",
    "func_skills['0041'] = {'Poderes 5':30, 'etapa 2': 5, 'etapa 3': 5, 'etapa 4': 5, 'etapa 5': 5}\n",
    "func_skills['0042'] = {'Poderes 5':30, 'etapa 2': 5, 'etapa 3': 5, 'etapa 4': 5, 'etapa 5': 5}\n",
    "func_skills['0043'] = {'Poderes 5':30, 'etapa 2': 5, 'etapa 3': 5, 'etapa 4': 5, 'etapa 5': 5}\n",
    "func_skills['0045'] = {'Poderes 5':30, 'etapa 2': 5, 'etapa 3': 5, 'etapa 4': 5, 'etapa 5': 5}\n",
    "func_skills['0044'] = {'Poderes 5':30, 'etapa 2': 5, 'etapa 3': 5, 'etapa 4': 5, 'etapa 5': 5}\n",
    "func_skills['0046'] = {'Poderes 5':30, 'etapa 2': 5, 'etapa 3': 5, 'etapa 4': 5, 'etapa 5': 5}\n",
    "func_skills['0047'] = {'Poderes 5':30, 'etapa 2': 5, 'etapa 3': 5, 'etapa 4': 5, 'etapa 5': 5}\n",
    "func_skills['0048'] = {'Poderes 5':30, 'etapa 2': 5, 'etapa 3': 5, 'etapa 4': 5, 'etapa 5': 5}\n",
    "func_skills['0049'] = {'Poderes 5':30, 'etapa 2': 5, 'etapa 3': 5, 'etapa 4': 5, 'etapa 5': 5}\n",
    "func_skills['0050'] = {'Poderes 5':30, 'etapa 2': 5, 'etapa 3': 5, 'etapa 4': 5, 'etapa 5': 5}\n",
    "func_skills['0051'] = {'etapa 2': 5, 'etapa 3': 5, 'etapa 4': 5, 'etapa 5': 5}\n",
    "func_skills['0052'] = {'etapa 2': 5, 'etapa 3': 5, 'etapa 4': 5, 'etapa 5': 5}\n",
    "func_skills['0053'] = {'etapa 2': 5, 'etapa 3': 5, 'etapa 4': 5, 'etapa 5': 5}\n",
    "func_skills['0054'] = {'etapa 2': 5, 'etapa 3': 5, 'etapa 4': 5, 'etapa 5': 5}\n",
    "func_skills['0055'] = {'etapa 2': 5, 'etapa 3': 5, 'etapa 4': 5, 'etapa 5': 5}\n",
    "func_skills['0056'] = {'etapa 2': 5, 'etapa 3': 5, 'etapa 4': 5, 'etapa 5': 5}\n",
    "func_skills['0057'] = {'etapa 2': 5, 'etapa 3': 5, 'etapa 4': 5, 'etapa 5': 5}\n",
    "func_skills['0058'] = {'etapa 2': 5, 'etapa 3': 5, 'etapa 4': 5, 'etapa 5': 5}\n",
    "func_skills['0059'] = {'etapa 2': 5, 'etapa 3': 5, 'etapa 4': 5, 'etapa 5': 5}\n",
    "func_skills['0060'] = {'etapa 2': 5, 'etapa 3': 5, 'etapa 4': 5, 'etapa 5': 5}\n",
    "func_skills['0061'] = {'etapa 2': 5, 'etapa 3': 5, 'etapa 4': 5, 'etapa 5': 5}\n",
    "func_skills['0062'] = {'etapa 2': 5, 'etapa 3': 5, 'etapa 4': 5, 'etapa 5': 5}\n",
    "func_skills['0063'] = {'etapa 2': 5, 'etapa 3': 5, 'etapa 4': 5, 'etapa 5': 5}\n",
    "func_skills['0064'] = {'etapa 2': 5, 'etapa 3': 5, 'etapa 4': 5, 'etapa 5': 5}\n",
    "func_skills['0065'] = {'etapa 2': 5, 'etapa 3': 5, 'etapa 4': 5, 'etapa 5': 5}\n",
    "func_skills['0066'] = {'etapa 2': 5, 'etapa 3': 5, 'etapa 4': 5, 'etapa 5': 5}\n",
    "func_skills['0067'] = {'etapa 2': 5, 'etapa 3': 5, 'etapa 4': 5, 'etapa 5': 5}\n",
    "func_skills['0068'] = {'etapa 2': 5, 'etapa 3': 5, 'etapa 4': 5, 'etapa 5': 5}\n",
    "func_skills['0069'] = {'etapa 2': 5, 'etapa 3': 5, 'etapa 4': 5, 'etapa 5': 5}\n",
    "func_skills['0070'] = {'etapa 2': 5, 'etapa 3': 5, 'etapa 4': 5, 'etapa 5': 5}"
   ]
  },
  {
   "cell_type": "code",
   "execution_count": 10,
   "metadata": {},
   "outputs": [],
   "source": [
    "g = grupo(current_time=current_time)\n",
    "for func, skill_tma in func_skills.items():\n",
    "    g.funcional(funcional=func, skills_tma=skill_tma)"
   ]
  },
  {
   "cell_type": "code",
   "execution_count": 11,
   "metadata": {},
   "outputs": [
    {
     "name": "stdout",
     "output_type": "stream",
     "text": [
      "Epoch 199 - Melhor 474 - Pior 469 Time 2.6791791915893555"
     ]
    }
   ],
   "source": [
    "pop = start_pop(demanda=demanda, pop_size=pop_size)\n",
    "\n",
    "best_result_list = []\n",
    "best_result = 0\n",
    "for epochs in range(200):\n",
    "    start = time.time()\n",
    "    \n",
    "    resultado = {}\n",
    "    for ii in range(pop_size):\n",
    "\n",
    "        resultado[ii] = g.atendimento(minutos_plano, demanda_etapa.copy(),demanda_prazo.copy(), pop[ii].copy())\n",
    "        g.restart()\n",
    "\n",
    "    #selecionar geradores\n",
    "    individuals = selecionando_geradores(resultado=resultado)\n",
    "\n",
    "    #breeding\n",
    "    pop = breeding(individuals, pop)\n",
    "\n",
    "    #mutation\n",
    "    pop = mutation(pop_size, perc_active_mutation, perc_mutacao)\n",
    "    \n",
    "    end = time.time() - start\n",
    "    \n",
    "    #best result\n",
    "    aux = sorted(resultado.items(), key=lambda x:x[1], reverse=True)[0]\n",
    "    if aux[1] > best_result:\n",
    "        best_result = aux[1]\n",
    "        best_result_list = pop[aux[0]]\n",
    "    \n",
    "    sys.stdout.write('\\rEpoch {} - Melhor {} - Pior {} Time {}'.format(epochs, \n",
    "                                                                       max(resultado.values()),\n",
    "                                                                       min(resultado.values()),\n",
    "                                                                       end))"
   ]
  }
 ],
 "metadata": {
  "kernelspec": {
   "display_name": "Python 3",
   "language": "python",
   "name": "python3"
  },
  "language_info": {
   "codemirror_mode": {
    "name": "ipython",
    "version": 3
   },
   "file_extension": ".py",
   "mimetype": "text/x-python",
   "name": "python",
   "nbconvert_exporter": "python",
   "pygments_lexer": "ipython3",
   "version": "3.6.3"
  }
 },
 "nbformat": 4,
 "nbformat_minor": 2
}
