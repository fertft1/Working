{
 "cells": [
  {
   "cell_type": "code",
   "execution_count": null,
   "metadata": {
    "collapsed": true
   },
   "outputs": [],
   "source": [
    "import csv\n",
    "from datetime import datetime, timedelta\n",
    "import time\n",
    "import numpy as np\n",
    "from collections import defaultdict, namedtuple\n",
    "import sys"
   ]
  },
  {
   "cell_type": "markdown",
   "metadata": {},
   "source": [
    "Na prática, saber se é caso pai ou filho não interessa muito, pois não vou ver nesse nível"
   ]
  },
  {
   "cell_type": "markdown",
   "metadata": {},
   "source": [
    "# Importando dados e  criando variáveis auxiliares"
   ]
  },
  {
   "cell_type": "code",
   "execution_count": null,
   "metadata": {
    "collapsed": true
   },
   "outputs": [],
   "source": [
    "demanda = {}\n",
    "formato = '%Y-%m-%d %H:%M:%S'\n",
    "with open('demanda.csv', 'r') as csvfile:\n",
    "    reader = csv.reader(csvfile, delimiter=',')\n",
    "    \n",
    "    _ = next(reader)\n",
    "    \n",
    "    for row in reader:\n",
    "        numerocasofilho = '{}_{}'.format(row[0], row[2].split(' ')[1])\n",
    "        numerocaso = row[0]\n",
    "        skill = row[2]\n",
    "        #não interessa a data de entrada\n",
    "        data_final = datetime.strptime(row[4],formato)\n",
    "        demanda[numerocasofilho] = [numerocaso,skill,data_final]\n",
    "\n",
    "# criando variáveis auxiliares\n",
    "demanda_etapa =  {}\n",
    "demanda_prazo =  {}\n",
    "for key,value in demanda.items():\n",
    "    demanda_etapa[key] = value[1]\n",
    "    demanda_prazo[key] = value[2]"
   ]
  },
  {
   "cell_type": "markdown",
   "metadata": {},
   "source": [
    "# Definindo funcionais para trabalho"
   ]
  },
  {
   "cell_type": "code",
   "execution_count": null,
   "metadata": {},
   "outputs": [],
   "source": [
    "class grupo(object):\n",
    "    \n",
    "    def __init__(self, current_time = datetime.today()):\n",
    "        self.__prioridades = defaultdict(list)\n",
    "        self.__cdatetime = current_time\n",
    "        self.__ocupada = {}\n",
    "    \n",
    "    def funcional(self,funcional, skills_tma):\n",
    "        \n",
    "        #para controlar para cada funcional se está ocupada\n",
    "        self.__ocupada[ funcional]= 0 #guarda o minuto em que volta a estar disponível  \n",
    "        \n",
    "        for prioridade, skill in enumerate(skills_tma.keys()):\n",
    "            #pela ordem cada skill vai para uma prioridade (proeficiência)\n",
    "            self.__prioridades[prioridade].append({skill: [funcional, skills_tma[skill]]})\n",
    "                \n",
    "    def atendimento(self, minutos, demanda_etapa, demanda_prazo, individual):\n",
    "        '''Recebe o minuto de planejamento e indivíduo gerado (demandas ordenadas)'''\n",
    "        \n",
    "        #mandar dentro de cada etapa as rds em ordem de atendimento acelera as próximas etapas\n",
    "        etapa_rd = defaultdict(list)\n",
    "        _ = {etapa_rd[demanda_etapa[rd]].append(rd) for rd in individual}\n",
    "        \n",
    "        #for key in etapa_rd:\n",
    "            #print('Quantidade{}--{}'.format(key, len(etapa_rd[key])))\n",
    "        \n",
    "        sla_rd = 0\n",
    "        \n",
    "        #1. A simulação deve consumir as demandas dentro de uma janela de tempo\n",
    "        for minuto in range(1,minutos+1):\n",
    "            #print('minuto {}'.format(minuto))\n",
    "            \n",
    "            #2. Por prioridade (proeficiência) as demandas devem ser alocadas\n",
    "            for proeficiencia, skills in self.__prioridades.items():\n",
    "                \n",
    "                #3. Acessando os skills da proeficiência\n",
    "                for skill in skills:\n",
    "                    \n",
    "                    #4. Verificar se existe demanda para o skill acessado\n",
    "                    skill_acessado = list(skill.keys())[0]\n",
    "                    if skill_acessado in etapa_rd.keys():\n",
    "                        \n",
    "                        #5. Verificar se funcional está disponível\n",
    "                        funcional, tma = skill[skill_acessado][0], skill[skill_acessado][1]\n",
    "                        \n",
    "                        if self.__ocupada[funcional] <= minuto:\n",
    "                            #verificado que existe demanda e a funcional está disponível\n",
    "                            \n",
    "                            #retirando seguindo a ordem\n",
    "                            rd = etapa_rd[skill_acessado].pop(0)\n",
    "                            \n",
    "                            #atualizando tempo que a funcional vai ficar ocupada\n",
    "                            self.__ocupada[funcional] = minuto + tma\n",
    "                            \n",
    "                            #Verificando se a demanda foi atendida no prazo\n",
    "                            #caso positivo podemos criar um novo dado\n",
    "                            if self.__cdatetime + timedelta(minutes = minuto + tma) <= demanda_prazo[rd]:\n",
    "                                sla_rd += 1 \n",
    "                            \n",
    "                            '''print('rd retirada: {} ocupada: {} prazo: {} skill: {}'.format(rd,\n",
    "                                                                                 self.__ocupada[funcional],\n",
    "                                                                                 self.sla[rd],\n",
    "                                                                                 skill_acessado))'''\n",
    "                            \n",
    "                            #se for último elemento da etapa_rd, então excluo a chave\n",
    "                            if len(etapa_rd[skill_acessado]) == 0:\n",
    "                                etapa_rd.pop(skill_acessado)\n",
    "                        \n",
    "        #6. Retorno a quantidade de rds feitas no prazo para avaliar a qualidade do indivíduo\n",
    "        return sla_rd\n"
   ]
  },
  {
   "cell_type": "markdown",
   "metadata": {},
   "source": [
    "# Criando população inicial"
   ]
  },
  {
   "cell_type": "code",
   "execution_count": null,
   "metadata": {
    "collapsed": true
   },
   "outputs": [],
   "source": [
    "#ordem original -- não dever ser alterado\n",
    "ordem = np.array(list(demanda.keys()), dtype=np.str)\n",
    "pop_size = 50\n",
    "pop = {}\n",
    "\n",
    "for ii in range(pop_size):\n",
    "    ordem_atendimento = ordem.copy()\n",
    "    np.random.shuffle(ordem_atendimento)\n",
    "    pop[ii] = list(ordem_atendimento)\n",
    "    \n",
    "    del ordem_atendimento"
   ]
  },
  {
   "cell_type": "markdown",
   "metadata": {},
   "source": [
    "# Fit Function\n",
    "\n",
    "A função para avaliar a qualidade dos indivíduos será a contagem de SLA perdida devido a ordem de seleção das demandas.\n",
    "\n",
    "Toda demanda selecionada tem as seguintes características:\n",
    "1. Tem de ser alocada em alguma funcional\n",
    "2. A funcional precisa ficar um tempo com essa demanda (tempo médio de atendimento)\n",
    "\n",
    "O resultado é influenciado pela ordem com que escolho as demandas. Cada indivíduo será um vetor que guarda para cada demanda a ordem em que cada demanda foi selecionada."
   ]
  },
  {
   "cell_type": "code",
   "execution_count": null,
   "metadata": {},
   "outputs": [],
   "source": [
    "resultado = {}\n",
    "for ii in range(pop_size):\n",
    "    g = grupo()\n",
    "\n",
    "    for jj in range(10):\n",
    "        skills_tma = {'etapa 1':15, 'etapa 2': 5, 'etapa 3': 3, 'etapa 4': 10, 'etapa 5': 30}\n",
    "        g.funcional('000' + str(jj),skills_tma=skills_tma.copy())\n",
    "    \n",
    "        skills_tma = {'etapa 5':30, 'etapa 4': 10, 'etapa 3': 3, 'etapa 2': 5, 'etapa 1': 2}\n",
    "        g.funcional('000' + str(jj), skills_tma=skills_tma.copy())\n",
    "\n",
    "    resultado[ii] = g.atendimento(400, demanda_etapa.copy(),demanda_prazo.copy(), pop[ii].copy())"
   ]
  },
  {
   "cell_type": "markdown",
   "metadata": {},
   "source": [
    "# Escolhendo os indivíduos mais promissores\n",
    "Os indivíduos que possuem os melhores resultados são mantidos.\n",
    "\n",
    "Os de menor qualidade são sorteados para que alguns sejam mantidos"
   ]
  },
  {
   "cell_type": "code",
   "execution_count": null,
   "metadata": {},
   "outputs": [],
   "source": [
    "perc_melhores = 0.3\n",
    "perc_piores = 0.1\n",
    "\n",
    "ordenar_individuos = sorted(resultado.items(), key = lambda x:x[1], reverse=True)\n",
    "\n",
    "#Guardando os resultados para comparativos futuros\n",
    "#keep_results = ordenar_individuos[:]\n",
    "\n",
    "#melhores indivíduos\n",
    "best_individual = [i for i in ordenar_individuos[:int(perc_melhores*pop_size)]]\n",
    "\n",
    "#sorteando os piores\n",
    "worst_individual = [i[0] for i in ordenar_individuos[int(perc_melhores*pop_size):]]\n",
    "rand_worst = list(np.random.choice(worst_individual, replace= False, size= int(perc_piores * len(worst_individual))))\n",
    "\n",
    "rand_worst = [i for i in ordenar_individuos if i[0] in rand_worst]\n",
    "\n",
    "#indivíduos para nova etapa\n",
    "individuals = best_individual + rand_worst\n",
    "\n",
    "del ordenar_individuos, best_individual, worst_individual, rand_worst"
   ]
  },
  {
   "cell_type": "markdown",
   "metadata": {},
   "source": [
    "# Breeding\n",
    "\n",
    "Criar filhos a partir do DNA dos pais"
   ]
  },
  {
   "cell_type": "code",
   "execution_count": null,
   "metadata": {},
   "outputs": [],
   "source": [
    "#1.Identificar quem vai trocar material entre si\n",
    "casais = np.random.choice([i[0] for i in individuals],replace=True,size=[pop_size,2])\n",
    "\n",
    "#2.Regra de troca de DNA -- sorteio aleatório\n",
    "for i, casal in enumerate(casais):\n",
    "    \n",
    "    #posso usar várias vezes o mesmo individuo para vários cruzamentos\n",
    "    aux, breed= {}, []\n",
    "    \n",
    "    aux[casal[0]] = pop[casal[0]].copy()\n",
    "    aux[casal[1]] = pop[casal[1]].copy()\n",
    "\n",
    "    while len(aux[casal[0]]) and len(aux[casal[1]]):\n",
    "        choice = np.random.choice([casal[0], casal[1]])\n",
    "\n",
    "        #sempre descarto\n",
    "        rd = aux[choice].pop(0)\n",
    "\n",
    "        #se ainda não existe no gene do filho eu add, caso contrário descarto\n",
    "        if not rd in breed:\n",
    "            breed.append(rd)\n",
    "    \n",
    "    #crio a nova geração sobre a antiga\n",
    "    pop[i] = breed[:]"
   ]
  },
  {
   "cell_type": "markdown",
   "metadata": {},
   "source": [
    "# Mutation\n",
    "A mutação acontece adicionando novos indivíduos a população. Não mudos os que já existem, simplesmente sorteio alguns e crio um filho com mutação. No caso atual mutação significa trocar algumas posições na ordem das demandas."
   ]
  },
  {
   "cell_type": "code",
   "execution_count": null,
   "metadata": {
    "collapsed": true
   },
   "outputs": [],
   "source": [
    "perc_active_mutation = 0.1 #população que sofre mutação\n",
    "perc_mutacao = 0.1 #percentual dos genes\n",
    "\n",
    "sample = np.random.choice(range(pop_size), replace=False, size = int(pop_size*perc_active_mutation))\n",
    "\n",
    "for choice in sample:\n",
    "    \n",
    "    length = len(pop[choice])\n",
    "    changes = np.random.choice(range(length), replace = False, size = [int(length*perc_mutacao), 2])\n",
    "    \n",
    "    for change in changes:\n",
    "        #invertendo os genes\n",
    "        aux_1 = pop[choice][change[0]][:]\n",
    "        aux_2 = pop[choice][change[1]][:]\n",
    "        \n",
    "        pop[choice][change[0]] = aux_2\n",
    "        pop[choice][change[1]] = aux_1"
   ]
  },
  {
   "cell_type": "code",
   "execution_count": null,
   "metadata": {
    "scrolled": true
   },
   "outputs": [],
   "source": [
    "for geracao in range(300):\n",
    "    start = time.time()\n",
    "    \n",
    "    resultado = {}\n",
    "    for ii in range(pop_size):\n",
    "        g = grupo()\n",
    "\n",
    "        for jj in range(10):\n",
    "            skills_tma = {'etapa 1':15, 'etapa 2': 5, 'etapa 3': 3, 'etapa 4': 10, 'etapa 5': 30}\n",
    "            g.funcional('000' + str(jj),skills_tma=skills_tma.copy())\n",
    "\n",
    "            skills_tma = {'etapa 5':30, 'etapa 4': 10, 'etapa 3': 3, 'etapa 2': 5, 'etapa 1': 2}\n",
    "            g.funcional('000' + str(jj), skills_tma=skills_tma.copy())\n",
    "\n",
    "        resultado[ii] = g.atendimento(400, demanda_etapa.copy(),demanda_prazo.copy(), pop[ii].copy())\n",
    "\n",
    "\n",
    "    perc_melhores = 0.3\n",
    "    perc_piores = 0.2\n",
    "\n",
    "    ordenar_individuos = sorted(resultado.items(), key = lambda x:x[1], reverse=True)\n",
    "\n",
    "    #Guardando os resultados para comparativos futuros\n",
    "    #keep_results = ordenar_individuos[:]\n",
    "\n",
    "    #melhores indivíduos\n",
    "    best_individual = [i for i in ordenar_individuos[:int(perc_melhores*pop_size)]]\n",
    "\n",
    "    #sorteando os piores\n",
    "    worst_individual = [i[0] for i in ordenar_individuos[int(perc_melhores*pop_size):]]\n",
    "    rand_worst = list(np.random.choice(worst_individual, replace= False, size= int(perc_piores * len(worst_individual))))\n",
    "\n",
    "    rand_worst = [i for i in ordenar_individuos if i[0] in rand_worst]\n",
    "\n",
    "    #indivíduos para nova etapa\n",
    "    individuals = best_individual + rand_worst\n",
    "\n",
    "    #del best_individual, worst_individual, rand_worst\n",
    "\n",
    "\n",
    "    casais = np.random.choice([i[0] for i in individuals],replace=True,size=[pop_size,2])\n",
    "\n",
    "    #2.Regra de troca de DNA -- sorteio aleatório\n",
    "    for i, casal in enumerate(casais):\n",
    "\n",
    "        #posso usar várias vezes o mesmo individuo para vários cruzamentos\n",
    "        aux, breed= {}, []\n",
    "\n",
    "        aux[casal[0]] = pop[casal[0]].copy()\n",
    "        aux[casal[1]] = pop[casal[1]].copy()\n",
    "\n",
    "        while len(aux[casal[0]]) and len(aux[casal[1]]):\n",
    "            choice = np.random.choice([casal[0], casal[1]])\n",
    "\n",
    "            #sempre descarto\n",
    "            rd = aux[choice].pop(0)\n",
    "\n",
    "            #se ainda não existe no gene do filho eu add, caso contrário descarto\n",
    "            if not rd in breed:\n",
    "                breed.append(rd)\n",
    "\n",
    "        #crio a nova geração sobre a antiga\n",
    "        pop[i] = breed[:]\n",
    "\n",
    "    perc_active_mutation = 0.1 #população que sofre mutação\n",
    "    perc_mutacao = 0.05 #percentual dos genes\n",
    "\n",
    "    sample = np.random.choice(range(pop_size), replace=False, size = int(pop_size*perc_active_mutation))\n",
    "\n",
    "    for choice in sample:\n",
    "\n",
    "        length = len(pop[choice])\n",
    "        changes = np.random.choice(range(length), replace = False, size = [int(length*perc_mutacao), 2])\n",
    "\n",
    "        for change in changes:\n",
    "            #invertendo os genes\n",
    "            aux_1 = pop[choice][change[0]][:]\n",
    "            aux_2 = pop[choice][change[1]][:]\n",
    "\n",
    "            pop[choice][change[0]] = aux_2\n",
    "            pop[choice][change[1]] = aux_1\n",
    "    \n",
    "    sys.stdout.write('\\rGeracao: {} Tempo: {} Melhor: {} Pior: {}'.format(geracao,\n",
    "                                                                          time.time() - start,\n",
    "                                                                          ordenar_individuos[0],\n",
    "                                                                          ordenar_individuos[1]))\n",
    "    \n",
    "    del ordenar_individuos"
   ]
  }
 ],
 "metadata": {
  "kernelspec": {
   "display_name": "Python 3",
   "language": "python",
   "name": "python3"
  },
  "language_info": {
   "codemirror_mode": {
    "name": "ipython",
    "version": 3
   },
   "file_extension": ".py",
   "mimetype": "text/x-python",
   "name": "python",
   "nbconvert_exporter": "python",
   "pygments_lexer": "ipython3",
   "version": "3.6.3"
  }
 },
 "nbformat": 4,
 "nbformat_minor": 2
}
