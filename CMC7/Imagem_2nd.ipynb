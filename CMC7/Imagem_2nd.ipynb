{
 "cells": [
  {
   "cell_type": "code",
   "execution_count": 16,
   "metadata": {
    "collapsed": true
   },
   "outputs": [],
   "source": [
    "from PIL import Image, ImageFilter, ImageOps\n",
    "import numpy as np\n",
    "from skimage import measure\n",
    "import matplotlib.pyplot as plt\n",
    "import os"
   ]
  },
  {
   "cell_type": "code",
   "execution_count": 2,
   "metadata": {
    "collapsed": true
   },
   "outputs": [],
   "source": [
    "%matplotlib inline"
   ]
  },
  {
   "cell_type": "code",
   "execution_count": 3,
   "metadata": {
    "collapsed": true
   },
   "outputs": [],
   "source": [
    "def F_BringNpImg(img):\n",
    "    return np.array(img.getdata()).reshape(img.size[1], img.size[0])/255"
   ]
  },
  {
   "cell_type": "code",
   "execution_count": 84,
   "metadata": {
    "collapsed": true
   },
   "outputs": [],
   "source": [
    "def F_Rotacao(img):\n",
    "    img_sup = img.crop((50,0,img.size[0]-50, 30))\n",
    "    np_img = F_BringNpImg(img_sup)\n",
    "\n",
    "    dif = np_img[:,-1].sum() - np_img[:,0].sum()\n",
    "    sinal = -1 if dif > 0 else 1\n",
    "    \n",
    "    return np.arcsin(sinal*(dif/img_sup.size[1]))"
   ]
  },
  {
   "cell_type": "code",
   "execution_count": 5,
   "metadata": {
    "collapsed": true
   },
   "outputs": [],
   "source": [
    "def F_ReduzirAltura(img, criterio = 0.9):\n",
    "    \n",
    "    np_img = F_BringNpImg(img)\n",
    "    \n",
    "    sinal = 1\n",
    "    for ii in range(0,100*sinal, sinal):\n",
    "        if np_img[ii, 0:img.size[0]].mean() > criterio:\n",
    "            break\n",
    "    \n",
    "    sinal = -1\n",
    "    for jj in range(0,100*sinal, sinal):\n",
    "        if np_img[jj, 0:img.size[0]].mean() > criterio:\n",
    "            break\n",
    "    \n",
    "    return ii,jj"
   ]
  },
  {
   "cell_type": "code",
   "execution_count": 6,
   "metadata": {
    "collapsed": true
   },
   "outputs": [],
   "source": [
    "def F_ReduzirLargura(img, criterio = 0.9):\n",
    "    \n",
    "    np_img = F_BringNpImg(img)\n",
    "    \n",
    "    sinal = 1\n",
    "    for ii in range(0,100*sinal, sinal):\n",
    "        if np_img[0:img.size[1],ii].mean() > criterio:\n",
    "            break\n",
    "    \n",
    "    sinal = -1\n",
    "    for jj in range(0,100*sinal, sinal):\n",
    "        if np_img[0:img.size[1],jj].mean() > criterio:\n",
    "            break\n",
    "    \n",
    "    return ii,jj"
   ]
  },
  {
   "cell_type": "code",
   "execution_count": 7,
   "metadata": {
    "collapsed": true
   },
   "outputs": [],
   "source": [
    "def F_CortarImagem(img):\n",
    "\n",
    "    Top, Bottom = F_ReduzirAltura(img, criterio=0.9)\n",
    "    Left, Right = F_ReduzirLargura(img, criterio=0.9)\n",
    "\n",
    "    return img.crop((Left, Top, img.size[0] + Right, img.size[1] + Bottom))"
   ]
  },
  {
   "cell_type": "code",
   "execution_count": 8,
   "metadata": {
    "collapsed": true
   },
   "outputs": [],
   "source": [
    "def F_AumentarDensidade(img_crop, step_vert = 50, step_hor = 5):\n",
    "    \n",
    "    for jj in range(0, img_crop.size[1]):\n",
    "        for ii in range(0, img_crop.size[0]):\n",
    "\n",
    "            if img_crop.getpixel((ii,jj)) == 0:\n",
    "\n",
    "                end = 0\n",
    "                for kk in range(ii + 1, ii + 1 + step_hor):\n",
    "\n",
    "                    if img_crop.getpixel((kk,jj)) == 0:\n",
    "                        end = kk\n",
    "                    elif kk + 1 == img_crop.size[0]:\n",
    "                        break\n",
    "\n",
    "                for ii in range(ii, end):\n",
    "                    img_crop.putpixel((ii,jj),0)\n",
    "    if step_vert != 0:\n",
    "        for ii in range(0, img_crop.size[0]):\n",
    "            for jj in range(0, img_crop.size[1]):\n",
    "\n",
    "                if img_crop.getpixel((ii,jj)) == 0:\n",
    "\n",
    "                    end = 0\n",
    "                    for kk in range(jj + 1, jj + 1 + step_vert):\n",
    "\n",
    "                        try:\n",
    "                        #Uma exceção deve ocorrer quando chegar ao limite da imagem\n",
    "                            if img_crop.getpixel((ii, kk)) == 0:\n",
    "                                end = kk\n",
    "                            elif kk + 1 == img_crop.size[1]:\n",
    "                                break\n",
    "                        except:\n",
    "                            pass\n",
    "\n",
    "                    for jj in range(jj, end):\n",
    "                        img_crop.putpixel((ii,jj), 0)\n",
    "\n",
    "    return img_crop"
   ]
  },
  {
   "cell_type": "code",
   "execution_count": 153,
   "metadata": {},
   "outputs": [],
   "source": [
    "def F_VisualizarResultado(img, posicoes):\n",
    "    \n",
    "    img_aux = img.convert('RGB')\n",
    "\n",
    "    #Criar visualização\n",
    "    for count, posicao in enumerate(posicoes):\n",
    "        try:\n",
    "            for ii in range(0, 70):\n",
    "                img_aux.putpixel((int(posicao[0]), ii),(255,0,0))\n",
    "                img_aux.putpixel((int(posicao[1]), ii),(255,0,0))\n",
    "        except:\n",
    "            pass\n",
    "\n",
    "    return img_aux"
   ]
  },
  {
   "cell_type": "code",
   "execution_count": 185,
   "metadata": {},
   "outputs": [],
   "source": [
    "def F_DisplayContour(img, contours):\n",
    "    # Display the image and plot all contours found\n",
    "    plt.figure(figsize=(50,100))\n",
    "    plt.imshow(img, interpolation='nearest')\n",
    "\n",
    "    for n, contour in enumerate(contours):\n",
    "        plt.plot(contour[:, 1], contour[:, 0], linewidth=5)\n",
    "\n",
    "    plt.axis('image')\n",
    "    plt.xticks([])\n",
    "    plt.yticks([])\n",
    "    plt.show()"
   ]
  },
  {
   "cell_type": "markdown",
   "metadata": {},
   "source": [
    "# Step 0\n",
    "Carregar a imagem, rotacionar e reduzir a área de interesse"
   ]
  },
  {
   "cell_type": "code",
   "execution_count": 170,
   "metadata": {
    "collapsed": true
   },
   "outputs": [],
   "source": [
    "generator_imgs = ('{}/{}'.format('Original', ii) for ii in os.listdir('Original') if ii.endswith('F.tif'))"
   ]
  },
  {
   "cell_type": "code",
   "execution_count": 171,
   "metadata": {},
   "outputs": [
    {
     "data": {
      "image/png": "[encoded data removed]",
      "text/plain": [
       "<PIL.TiffImagePlugin.TiffImageFile image mode=1 size=1376x607 at 0xBD1E30F320>"
      ]
     },
     "execution_count": 171,
     "metadata": {},
     "output_type": "execute_result"
    }
   ],
   "source": [
    "img = Image.open(next(generator_imgs))\n",
    "img"
   ]
  },
  {
   "cell_type": "code",
   "execution_count": 172,
   "metadata": {},
   "outputs": [
    {
     "data": {
      "image/png": "[encoded data removed]",
      "text/plain": [
       "<PIL.Image.Image image mode=1 size=1376x607 at 0xBD1F137898>"
      ]
     },
     "execution_count": 172,
     "metadata": {},
     "output_type": "execute_result"
    }
   ],
   "source": [
    "img = img.rotate(F_Rotacao(img))\n",
    "img"
   ]
  },
  {
   "cell_type": "markdown",
   "metadata": {},
   "source": [
    "Encontrei as rotações agora preciso cortar a imagem para ficar somente com a área do cheque"
   ]
  },
  {
   "cell_type": "code",
   "execution_count": 173,
   "metadata": {},
   "outputs": [],
   "source": [
    "img = F_CortarImagem(img)"
   ]
  },
  {
   "cell_type": "markdown",
   "metadata": {},
   "source": [
    "### Observação\n",
    "Aqui é necessário definir a área de corte para imagem dos dígitos"
   ]
  },
  {
   "cell_type": "code",
   "execution_count": 174,
   "metadata": {},
   "outputs": [
    {
     "data": {
      "image/png": "[encoded data removed]",
      "text/plain": [
       "<PIL.Image.Image image mode=1 size=1016x72 at 0xBD1BF444E0>"
      ]
     },
     "execution_count": 174,
     "metadata": {},
     "output_type": "execute_result"
    }
   ],
   "source": [
    "img_crop = img.crop((50, 500, img.size[0] - 300, img.size[1]-20))\n",
    "img_crop"
   ]
  },
  {
   "cell_type": "markdown",
   "metadata": {},
   "source": [
    "# Step 1\n",
    "Aumentar a densidade de pontos pretos na imagem"
   ]
  },
  {
   "cell_type": "code",
   "execution_count": 175,
   "metadata": {},
   "outputs": [
    {
     "data": {
      "image/png": "[encoded data removed]",
      "text/plain": [
       "<PIL.Image.Image image mode=1 size=1016x72 at 0xBD1BF444E0>"
      ]
     },
     "execution_count": 175,
     "metadata": {},
     "output_type": "execute_result"
    }
   ],
   "source": [
    "img_crop = F_AumentarDensidade(img_crop)\n",
    "img_crop"
   ]
  },
  {
   "cell_type": "markdown",
   "metadata": {},
   "source": [
    "# Step 2 \n",
    "Tirar o contorno das imagens"
   ]
  },
  {
   "cell_type": "code",
   "execution_count": 176,
   "metadata": {
    "collapsed": true
   },
   "outputs": [],
   "source": [
    "#Encontrar contornos\n",
    "contours = measure.find_contours(img_crop, level= .99)"
   ]
  },
  {
   "cell_type": "markdown",
   "metadata": {},
   "source": [
    "# Step 3\n",
    "Definir pontos de corte da imagem"
   ]
  },
  {
   "cell_type": "code",
   "execution_count": 182,
   "metadata": {
    "collapsed": true
   },
   "outputs": [],
   "source": [
    "#Encontrar contornos\n",
    "contours = measure.find_contours(img_crop, level= .99)\n",
    "\n",
    "#Guardar as posições\n",
    "posicoes = [(min(contour, key=lambda x:x[1])[1], max(contour, key=lambda x:x[1])[1]) for contour in contours]\n",
    "\n",
    "#Ordenar começando pela esquerda\n",
    "posicoes = sorted(posicoes, key= lambda x:x[1])[0:33]"
   ]
  },
  {
   "cell_type": "code",
   "execution_count": 183,
   "metadata": {},
   "outputs": [
    {
     "data": {
      "image/png": "[encoded data removed]",
      "text/plain": [
       "<PIL.Image.Image image mode=RGB size=1016x72 at 0xBD2108FC50>"
      ]
     },
     "execution_count": 183,
     "metadata": {},
     "output_type": "execute_result"
    }
   ],
   "source": [
    "F_VisualizarResultado(img_crop, posicoes)"
   ]
  },
  {
   "cell_type": "code",
   "execution_count": 186,
   "metadata": {},
   "outputs": [
    {
     "data": {
      "image/png": "[encoded data removed]",
      "text/plain": [
       "<matplotlib.figure.Figure at 0xbd1e2a44a8>"
      ]
     },
     "metadata": {},
     "output_type": "display_data"
    }
   ],
   "source": [
    "F_DisplayContour(img_crop, contours)"
   ]
  },
  {
   "cell_type": "markdown",
   "metadata": {},
   "source": [
    "# Resultado Final"
   ]
  },
  {
   "cell_type": "markdown",
   "metadata": {},
   "source": [
    "# Step 4\n",
    "Agora buscar os dígitos superiores"
   ]
  },
  {
   "cell_type": "code",
   "execution_count": 129,
   "metadata": {},
   "outputs": [
    {
     "data": {
      "image/png": "[encoded data removed]",
      "text/plain": [
       "<PIL.Image.Image image mode=1 size=874x137 at 0xBD1F137C50>"
      ]
     },
     "execution_count": 129,
     "metadata": {},
     "output_type": "execute_result"
    }
   ],
   "source": [
    "img_crop = img.crop((img.size[0]*0.1,0,img.size[0]*0.74, img.size[0]*0.1))\n",
    "\n",
    "#Não utilizar análise por profundidade\n",
    "img_crop = F_AumentarDensidade(img_crop, step_hor=5, step_vert=2)\n",
    "img_crop"
   ]
  },
  {
   "cell_type": "code",
   "execution_count": 130,
   "metadata": {
    "collapsed": true
   },
   "outputs": [],
   "source": [
    "#Encontrar contornos\n",
    "contours = measure.find_contours(img_crop, level= .99)"
   ]
  },
  {
   "cell_type": "code",
   "execution_count": 133,
   "metadata": {},
   "outputs": [],
   "source": [
    "dif_abs = [(max(contour, key = lambda x:x[0])[0]-min(contour, key = lambda x:x[0])[0],n) \n",
    "                for n, contour in enumerate(contours)]\n",
    "\n",
    "dif_ord = [ii[1] for ii in sorted(dif_abs, reverse=True)[0:8]]\n",
    "\n",
    "posicoes = []\n",
    "for jj in dif_ord:\n",
    "    posicoes_aux = [ii[1] for ii in contours[jj]]\n",
    "    posicoes.append((min(posicoes_aux), max(posicoes_aux)))\n",
    "\n",
    "%reset_selective -f posicoes_aux"
   ]
  }
 ],
 "metadata": {
  "kernelspec": {
   "display_name": "Python 3",
   "language": "python",
   "name": "python3"
  },
  "language_info": {
   "codemirror_mode": {
    "name": "ipython",
    "version": 3
   },
   "file_extension": ".py",
   "mimetype": "text/x-python",
   "name": "python",
   "nbconvert_exporter": "python",
   "pygments_lexer": "ipython3",
   "version": "3.5.3"
  }
 },
 "nbformat": 4,
 "nbformat_minor": 2
}
