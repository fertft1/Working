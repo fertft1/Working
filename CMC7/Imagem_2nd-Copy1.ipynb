{
 "cells": [
  {
   "cell_type": "code",
   "execution_count": null,
   "metadata": {
    "collapsed": true
   },
   "outputs": [],
   "source": [
    "from PIL import Image, ImageFilter, ImageOps\n",
    "import numpy as np\n",
    "from skimage import measure\n",
    "import matplotlib.pyplot as plt\n",
    "import os\n",
    "from numba import jit, int32, double, targets\n",
    "import sys"
   ]
  },
  {
   "cell_type": "code",
   "execution_count": null,
   "metadata": {
    "collapsed": true
   },
   "outputs": [],
   "source": [
    "%matplotlib inline"
   ]
  },
  {
   "cell_type": "code",
   "execution_count": null,
   "metadata": {
    "collapsed": true
   },
   "outputs": [],
   "source": [
    "def F_BringNpImg(img):\n",
    "    return np.array(img.getdata()).reshape(img.size[1], img.size[0])/255"
   ]
  },
  {
   "cell_type": "code",
   "execution_count": null,
   "metadata": {
    "collapsed": true
   },
   "outputs": [],
   "source": [
    "def F_Rotacao(img, pontos):\n",
    "    img_sup = img.crop((pontos[0],0,img.size[0]-pontos[1], 30))\n",
    "    np_img = F_BringNpImg(img_sup)\n",
    "\n",
    "    dif = np_img[:,-1].sum() - np_img[:,0].sum()\n",
    "    sinal = -1 if dif > 0 else 1\n",
    "    \n",
    "    return np.arcsin(sinal*(dif/img_sup.size[1]))"
   ]
  },
  {
   "cell_type": "code",
   "execution_count": null,
   "metadata": {
    "collapsed": true
   },
   "outputs": [],
   "source": [
    "def F_TestarRotacoes(img):\n",
    "    aux = 0\n",
    "    rotacao = 0\n",
    "    for ii in range(100,int((img.size[0]-100)/2)):\n",
    "        rotacao = F_Rotacao(img, (ii, ii))\n",
    "        if np.absolute(rotacao) > np.absolute(aux):\n",
    "            aux = rotacao\n",
    "\n",
    "    return aux"
   ]
  },
  {
   "cell_type": "code",
   "execution_count": null,
   "metadata": {
    "collapsed": true
   },
   "outputs": [],
   "source": [
    "def F_ReduzirAltura(img, criterio = 0.9):\n",
    "    \n",
    "    np_img = F_BringNpImg(img)\n",
    "    \n",
    "    sinal = 1\n",
    "    for ii in range(0,100*sinal, sinal):\n",
    "        if np_img[ii, 0:img.size[0]].mean() > criterio:\n",
    "            break\n",
    "    \n",
    "    sinal = -1\n",
    "    for jj in range(0,100*sinal, sinal):\n",
    "        if np_img[jj, 0:img.size[0]].mean() > criterio:\n",
    "            break\n",
    "    \n",
    "    return ii,jj"
   ]
  },
  {
   "cell_type": "code",
   "execution_count": null,
   "metadata": {
    "collapsed": true
   },
   "outputs": [],
   "source": [
    "def F_ReduzirLargura(img, criterio = 0.9):\n",
    "    \n",
    "    np_img = F_BringNpImg(img)\n",
    "    \n",
    "    sinal = 1\n",
    "    for ii in range(0,100*sinal, sinal):\n",
    "        if np_img[0:img.size[1],ii].mean() > criterio:\n",
    "            break\n",
    "    \n",
    "    sinal = -1\n",
    "    for jj in range(0,100*sinal, sinal):\n",
    "        if np_img[0:img.size[1],jj].mean() > criterio:\n",
    "            break\n",
    "    \n",
    "    return ii,jj"
   ]
  },
  {
   "cell_type": "code",
   "execution_count": null,
   "metadata": {
    "collapsed": true
   },
   "outputs": [],
   "source": [
    "def F_CortarImagem(img):\n",
    "\n",
    "    Top, Bottom = F_ReduzirAltura(img, criterio=0.9)\n",
    "    Left, Right = F_ReduzirLargura(img, criterio=0.9)\n",
    "\n",
    "    return img.crop((Left, Top, img.size[0] + Right, img.size[1] + Bottom))"
   ]
  },
  {
   "cell_type": "code",
   "execution_count": null,
   "metadata": {
    "collapsed": true
   },
   "outputs": [],
   "source": [
    "def F_AumentarDensidade(img_crop, step_vert = 50, step_hor = 5):\n",
    "    \n",
    "    for jj in range(0, img_crop.size[1]):\n",
    "        for ii in range(0, img_crop.size[0]):\n",
    "\n",
    "            if img_crop.getpixel((ii,jj)) == 0:\n",
    "\n",
    "                end = 0\n",
    "                for kk in range(ii + 1, ii + 1 + step_hor):\n",
    "\n",
    "                    if img_crop.getpixel((kk,jj)) == 0:\n",
    "                        end = kk\n",
    "                    elif kk + 1 == img_crop.size[0]:\n",
    "                        break\n",
    "\n",
    "                for ii in range(ii, end):\n",
    "                    img_crop.putpixel((ii,jj),0)\n",
    "    if step_vert != 0:\n",
    "        for ii in range(0, img_crop.size[0]):\n",
    "            for jj in range(0, img_crop.size[1]):\n",
    "\n",
    "                if img_crop.getpixel((ii,jj)) == 0:\n",
    "\n",
    "                    end = 0\n",
    "                    for kk in range(jj + 1, jj + 1 + step_vert):\n",
    "\n",
    "                        try:\n",
    "                        #Uma exceção deve ocorrer quando chegar ao limite da imagem\n",
    "                            if img_crop.getpixel((ii, kk)) == 0:\n",
    "                                end = kk\n",
    "                            elif kk + 1 == img_crop.size[1]:\n",
    "                                break\n",
    "                        except:\n",
    "                            pass\n",
    "\n",
    "                    for jj in range(jj, end):\n",
    "                        img_crop.putpixel((ii,jj), 0)\n",
    "\n",
    "    return img_crop"
   ]
  },
  {
   "cell_type": "code",
   "execution_count": null,
   "metadata": {
    "collapsed": true
   },
   "outputs": [],
   "source": [
    "@jit\n",
    "def F_VisualizarResultado(img, posicoes):\n",
    "    \n",
    "    img_aux = img.convert('RGB')\n",
    "\n",
    "    #Criar visualização\n",
    "    for count, posicao in enumerate(posicoes):\n",
    "        try:\n",
    "            for ii in range(0, 70):\n",
    "                img_aux.putpixel((int(posicao[0]), ii),(255,0,0))\n",
    "                img_aux.putpixel((int(posicao[1]), ii),(255,0,0))\n",
    "        except:\n",
    "            pass\n",
    "\n",
    "    return img_aux"
   ]
  },
  {
   "cell_type": "code",
   "execution_count": null,
   "metadata": {
    "collapsed": true
   },
   "outputs": [],
   "source": [
    "@jit\n",
    "def F_DisplayContour(img, contours):\n",
    "    # Display the image and plot all contours found\n",
    "    plt.figure(figsize=(50,100))\n",
    "    plt.imshow(img, interpolation='nearest')\n",
    "\n",
    "    for n, contour in enumerate(contours):\n",
    "        plt.plot(contour[:, 1], contour[:, 0], linewidth=5)\n",
    "\n",
    "    plt.axis('image')\n",
    "    plt.xticks([])\n",
    "    plt.yticks([])\n",
    "    plt.show()"
   ]
  },
  {
   "cell_type": "code",
   "execution_count": null,
   "metadata": {
    "collapsed": true
   },
   "outputs": [],
   "source": [
    "@jit\n",
    "def F_RetificarPosicoes(posicoes, min_width = 10, max_width_1 = 42, max_width_2 = 64):\n",
    "    posicao_filtrada = []\n",
    "    for posicao in posicoes:\n",
    "        diff_abs = posicao[1] - posicao[0]\n",
    "        if diff_abs > max_width_2:\n",
    "            posicao_filtrada.append((posicao[0], posicao[0] + diff_abs/3))\n",
    "            posicao_filtrada.append((posicao[0] + diff_abs/3, posicao[0] + 2*(diff_abs/3)))\n",
    "            posicao_filtrada.append((posicao[0] + 2*(diff_abs/3), posicao[1] ))\n",
    "        elif diff_abs > max_width_1:\n",
    "            posicao_filtrada.append((posicao[0], posicao[0] + diff_abs/2))\n",
    "            posicao_filtrada.append((posicao[1] - diff_abs/2, posicao[1]))\n",
    "        elif diff_abs > min_width:\n",
    "            posicao_filtrada.append(posicao) \n",
    "            \n",
    "    return posicao_filtrada"
   ]
  },
  {
   "cell_type": "code",
   "execution_count": null,
   "metadata": {
    "collapsed": false
   },
   "outputs": [],
   "source": [
    "def S_EncontrarDigits(path_name, filename, ii):\n",
    "    img = Image.open(path_name)\n",
    "    img  = img.rotate(F_TestarRotacoes(img))\n",
    "\n",
    "    img = F_CortarImagem(img)\n",
    "    img_crop = img.crop((50, 500, img.size[0] - 300, img.size[1]-20))\n",
    "\n",
    "    img_aux = F_AumentarDensidade(img_crop.copy(), step_hor=4)\n",
    "\n",
    "    #Encontrar contornos\n",
    "    contours = measure.find_contours(img_aux, level= .99)\n",
    "\n",
    "    #Guardar as posições\n",
    "    posicoes = [(min(contour, key=lambda x:x[1])[1], max(contour, key=lambda x:x[1])[1]) for contour in contours]\n",
    "\n",
    "    #Ordenar começando pela esquerda\n",
    "    posicoes = sorted(posicoes, key= lambda x:x[1])[0:34]\n",
    "\n",
    "    #São 34 posições onde estão os números e começo a contar pela esquerda\n",
    "    #Se a distância entre a primeira marcaçãoe e a último for muito pequena, então preciso aumentar a densidade\n",
    "    posicoes = F_RetificarPosicoes(posicoes)\n",
    "    \n",
    "    return S_CortarImagens(img_crop,posicoes, filename, ii)"
   ]
  },
  {
   "cell_type": "code",
   "execution_count": null,
   "metadata": {
    "collapsed": false
   },
   "outputs": [],
   "source": [
    "def S_CortarImagens(img_crop,posicoes, filename, count):\n",
    "    for ii, posicao in enumerate(posicoes):\n",
    "        img_crop.crop((posicao[0],0,posicao[1], img_crop.size[1])).save('Digits/{}.png'.format(count))\n",
    "        count += 1\n",
    "    return count"
   ]
  },
  {
   "cell_type": "code",
   "execution_count": null,
   "metadata": {
    "collapsed": false
   },
   "outputs": [],
   "source": [
    "pasta_imgs = 'Original_1'\n",
    "generator_imgs = (('{}/{}'.format(pasta_imgs, ii),ii.split('.')[0]) for ii in os.listdir(pasta_imgs))\n",
    "ii = 0\n",
    "erro  ={}\n",
    "for img_path, img_name in generator_imgs:\n",
    "    try:\n",
    "        ii = S_EncontrarDigits(img_path, img_name,ii)\n",
    "        sys.stdout.write('\\r{}'.format(ii))\n",
    "        ii+=1\n",
    "    except:\n",
    "        erro = dict(img_name= ii)"
   ]
  },
  {
   "cell_type": "markdown",
   "metadata": {},
   "source": [
    "# Separar em 3 pastas"
   ]
  },
  {
   "cell_type": "code",
   "execution_count": null,
   "metadata": {
    "collapsed": true
   },
   "outputs": [],
   "source": [
    "import shutil"
   ]
  },
  {
   "cell_type": "code",
   "execution_count": null,
   "metadata": {
    "collapsed": false
   },
   "outputs": [],
   "source": [
    "generator = (ii for ii in os.listdir('Digits'))"
   ]
  },
  {
   "cell_type": "code",
   "execution_count": null,
   "metadata": {
    "collapsed": false
   },
   "outputs": [],
   "source": [
    "for ii, img in enumerate(generator):\n",
    "    shutil.copy('Digits/{}'.format(img), dst='Separacao/{}/{}'.format(np.mod(ii,3)+1, img))"
   ]
  }
 ],
 "metadata": {
  "kernelspec": {
   "display_name": "Python 3",
   "language": "python",
   "name": "python3"
  },
  "language_info": {
   "codemirror_mode": {
    "name": "ipython",
    "version": 3
   },
   "file_extension": ".py",
   "mimetype": "text/x-python",
   "name": "python",
   "nbconvert_exporter": "python",
   "pygments_lexer": "ipython3",
   "version": "3.6.0"
  }
 },
 "nbformat": 4,
 "nbformat_minor": 2
}
